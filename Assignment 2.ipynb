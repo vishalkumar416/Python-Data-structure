{
 "cells": [
  {
   "cell_type": "code",
   "execution_count": 2,
   "id": "3f047e52-451e-4720-b87f-dcf3508a0212",
   "metadata": {},
   "outputs": [
    {
     "name": "stdout",
     "output_type": "stream",
     "text": [
      "vishal kumar\n"
     ]
    },
    {
     "data": {
      "text/plain": [
       "'\\nThis is a multi-line comment\\nIt spans multiple lines\\nTriple quotes are used to enclose the comment\\n'"
      ]
     },
     "execution_count": 2,
     "metadata": {},
     "output_type": "execute_result"
    }
   ],
   "source": [
    "# Single-line comments: These comments begin with the hash symbol (#) ,and extend to the end of the line. \n",
    "# This is a single-line comment\n",
    "x = \"vishal kumar\"  # This is an inline comment\n",
    "print(x)\n",
    "# Multi-line comments: While Python doesn't have a specific syntax for multi-line comments, you can create them using multiple single-line comments or by using triple quotes (either ''' or \"\"\"). Triple-quoted strings are more commonly used for docstrings (documentation strings) but can also be used as multi-line comments when not assigned to a variable or used as a docstring.\n",
    "\"\"\"\n",
    "This is a multi-line comment\n",
    "It spans multiple lines\n",
    "Triple quotes are used to enclose the comment\n",
    "\"\"\""
   ]
  },
  {
   "cell_type": "code",
   "execution_count": 3,
   "id": "995ec017-d101-48bb-803b-b2e17b6a91ed",
   "metadata": {},
   "outputs": [],
   "source": [
    "# In Python, variables are used to store data that can be referenced and manipulated later in the code. Variables can hold different types of data, such as numbers, strings, lists, or more complex data structures.\n",
    "counter = 100           # integer\n",
    "miles = 1000.0          # float\n",
    "name = \"John Doe\"       # string\n",
    "is_active = False       # boolean\n",
    "\n",
    "# Multiple assignments\n",
    "a, b, c = 1, 2, \"Hello\"\n",
    "\n",
    "# Swapping variables\n",
    "x, y = 10, 20\n",
    "x, y = y, x  # Now x is 20 and y is 10\n",
    "\n",
    "# Same value to multiple variables\n",
    "p = q = r = 5\n"
   ]
  },
  {
   "cell_type": "code",
   "execution_count": 5,
   "id": "d0b7de83-faaf-475f-a23c-027e1869244a",
   "metadata": {},
   "outputs": [
    {
     "name": "stdout",
     "output_type": "stream",
     "text": [
      "Tuple to list\n",
      "[4, 5, 6]\n",
      "\n",
      "\n",
      "String to list\n",
      "['h', 'e', 'l', 'l', 'o']\n",
      "\n",
      "\n",
      "List to set\n",
      "{1, 2, 3}\n",
      "\n",
      "\n"
     ]
    }
   ],
   "source": [
    "# In Python, we can convert one data type to another using type conversion functions.\n",
    "# Example\n",
    "# Tuple to list\n",
    "print(\"Tuple to list\")\n",
    "i = (4, 5, 6)\n",
    "j = list(i) \n",
    "print(j)\n",
    "print(\"\\n\")\n",
    "# String to list\n",
    "print(\"String to list\")\n",
    "k = \"hello\"\n",
    "l = list(k)  # l will be ['h', 'e', 'l', 'l', 'o']\n",
    "print(l)\n",
    "print(\"\\n\")\n",
    "# List to set\n",
    "print(\"List to set\")\n",
    "m = [1, 2, 2, 3, 3, 3]\n",
    "n = set(m)  # n will be {1, 2, 3\n",
    "print(n)\n",
    "print(\"\\n\")\n",
    "\n"
   ]
  },
  {
   "cell_type": "code",
   "execution_count": 6,
   "id": "e41bdd31-e4ca-414e-871a-3c0d0d1ec797",
   "metadata": {},
   "outputs": [
    {
     "data": {
      "text/plain": [
       "'Steps to Write and Run a Python Script from the Command Line\\n1.Write the Python Script:\\n\\n.Open a text editor (like Notepad or TextEdit).\\n.Write your Python code. For example:\\n# hello.py\\nprint(\"Hello, World!\")\\n.Save the file with a .py extension, like \\'hello.py\\'.\\n2.Open the Command Line Interface (CLI):\\n\\n.Windows: Open Command Prompt.\\n.macOS or Linux: Open Terminal.\\n3.Navigate to the Script\\'s Directory:\\n\\n.Use the cd command to go to the directory where your script is saved. For example:\\ncd path/to/your/script\\n4.Run the Python Script:\\n\\n.Type \\'python hello.py\\' and press Enter.\\n.On some systems, we might need to use \\'python3 hello.py\\' instead.'"
      ]
     },
     "execution_count": 6,
     "metadata": {},
     "output_type": "execute_result"
    }
   ],
   "source": [
    "\"\"\"Steps to Write and Run a Python Script from the Command Line\n",
    "1.Write the Python Script:\n",
    "\n",
    ".Open a text editor (like Notepad or TextEdit).\n",
    ".Write your Python code. For example:\n",
    "# hello.py\n",
    "print(\"Hello, World!\")\n",
    ".Save the file with a .py extension, like 'hello.py'.\n",
    "2.Open the Command Line Interface (CLI):\n",
    "\n",
    ".Windows: Open Command Prompt.\n",
    ".macOS or Linux: Open Terminal.\n",
    "3.Navigate to the Script's Directory:\n",
    "\n",
    ".Use the cd command to go to the directory where your script is saved. For example:\n",
    "cd path/to/your/script\n",
    "4.Run the Python Script:\n",
    "\n",
    ".Type 'python hello.py' and press Enter.\n",
    ".On some systems, we might need to use 'python3 hello.py' instead.\"\"\"\n"
   ]
  },
  {
   "cell_type": "code",
   "execution_count": 7,
   "id": "e7bc9124-d517-4f62-8519-4b59abc360de",
   "metadata": {},
   "outputs": [
    {
     "name": "stdout",
     "output_type": "stream",
     "text": [
      "[2, 3]\n"
     ]
    }
   ],
   "source": [
    "list = [1, 2, 3, 4, 5]\n",
    "sub_list = list[1:3]\n",
    "print(sub_list) \n"
   ]
  },
  {
   "cell_type": "code",
   "execution_count": 8,
   "id": "aafcea12-5e78-4380-b221-a6c905afdc23",
   "metadata": {},
   "outputs": [
    {
     "name": "stdout",
     "output_type": "stream",
     "text": [
      "z1: (3+4j)\n",
      "Real part of z1: 3.0\n",
      "Imaginary part of z1: 4.0\n",
      "z2: (5-6j)\n",
      "Real part of z2: 5.0\n",
      "Imaginary part of z2: -6.0\n",
      "z1 + z2 = (8-2j)\n",
      "z1 * z2 = (39+2j)\n"
     ]
    }
   ],
   "source": [
    "\"\"\"In mathematics, a complex number is a number that can be expressed in the form 𝑎+𝑏𝑖 where \n",
    ". a and b are real number\n",
    ". i is an imaginary unit.\"\"\"\n",
    "# Creating complex numbers\n",
    "z1 = 3 + 4j\n",
    "z2 = complex(5, -6)\n",
    "\n",
    "# Accessing real and imaginary parts\n",
    "print(\"z1:\", z1)\n",
    "print(\"Real part of z1:\", z1.real)\n",
    "print(\"Imaginary part of z1:\", z1.imag)\n",
    "\n",
    "print(\"z2:\", z2)\n",
    "print(\"Real part of z2:\", z2.real)\n",
    "print(\"Imaginary part of z2:\", z2.imag)\n",
    "\n",
    "# Performing arithmetic operations\n",
    "z3 = z1 + z2\n",
    "print(\"z1 + z2 =\", z3)  \n",
    "z4 = z1 * z2\n",
    "print(\"z1 * z2 =\", z4) \n"
   ]
  },
  {
   "cell_type": "code",
   "execution_count": 10,
   "id": "81f2e3b4-0be5-484d-94db-b07083ce391e",
   "metadata": {},
   "outputs": [
    {
     "name": "stdout",
     "output_type": "stream",
     "text": [
      "19\n"
     ]
    }
   ],
   "source": [
    "# To declare a variable named age and assign the value 25 to it in Python\n",
    "age = 19\n",
    "print(age)"
   ]
  },
  {
   "cell_type": "code",
   "execution_count": 11,
   "id": "bbcbae5c-a47d-4716-8198-1302da4859ea",
   "metadata": {},
   "outputs": [
    {
     "name": "stdout",
     "output_type": "stream",
     "text": [
      "<class 'float'>\n"
     ]
    }
   ],
   "source": [
    "price = 9.99\n",
    "print(type(price))\n"
   ]
  },
  {
   "cell_type": "code",
   "execution_count": 12,
   "id": "8bfd7837-ac48-41a8-b482-5d225a1c211a",
   "metadata": {},
   "outputs": [
    {
     "name": "stdout",
     "output_type": "stream",
     "text": [
      "My name is :  Vishal Kumar\n"
     ]
    }
   ],
   "source": [
    "name = \"Vishal Kumar\"\n",
    "print(\"My name is : \",name)\n"
   ]
  },
  {
   "cell_type": "code",
   "execution_count": 13,
   "id": "aabadc35-c6d7-4486-8379-a4d610319a02",
   "metadata": {},
   "outputs": [
    {
     "name": "stdout",
     "output_type": "stream",
     "text": [
      "World\n"
     ]
    }
   ],
   "source": [
    "str = \"Hello, World!\"\n",
    "substring = str[7:12]\n",
    "print(substring)\n"
   ]
  },
  {
   "cell_type": "code",
   "execution_count": 14,
   "id": "e85bb618-1f27-4903-b4d1-5128caf00810",
   "metadata": {},
   "outputs": [
    {
     "name": "stdout",
     "output_type": "stream",
     "text": [
      "True\n"
     ]
    }
   ],
   "source": [
    "is_student = True \n",
    "print(is_student)\n"
   ]
  },
  {
   "cell_type": "code",
   "execution_count": null,
   "id": "1cb2a6ad-a09c-4aba-a230-ee35b9636465",
   "metadata": {},
   "outputs": [],
   "source": []
  }
 ],
 "metadata": {
  "kernelspec": {
   "display_name": "Python 3 (ipykernel)",
   "language": "python",
   "name": "python3"
  },
  "language_info": {
   "codemirror_mode": {
    "name": "ipython",
    "version": 3
   },
   "file_extension": ".py",
   "mimetype": "text/x-python",
   "name": "python",
   "nbconvert_exporter": "python",
   "pygments_lexer": "ipython3",
   "version": "3.11.7"
  }
 },
 "nbformat": 4,
 "nbformat_minor": 5
}
